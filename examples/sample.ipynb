{
 "cells": [
  {
   "cell_type": "code",
   "execution_count": 6,
   "metadata": {},
   "outputs": [
    {
     "data": {
      "text/plain": [
       "['chase',\n",
       " 'acher',\n",
       " 'chars',\n",
       " 'hare',\n",
       " 'shear',\n",
       " 'arces',\n",
       " 'ascher',\n",
       " 'aces',\n",
       " 'rach',\n",
       " 'char',\n",
       " 'recash',\n",
       " 'crash',\n",
       " 'seah',\n",
       " 'hers',\n",
       " 'asher',\n",
       " 'hear',\n",
       " 'cash',\n",
       " 'cars',\n",
       " 'sare',\n",
       " 'serac',\n",
       " 'ears',\n",
       " 'eschar',\n",
       " 'shea',\n",
       " 'haes',\n",
       " 'search',\n",
       " 'chera',\n",
       " 'aesc',\n",
       " 'rhea',\n",
       " 'arcs',\n",
       " 'chares',\n",
       " 'srac',\n",
       " 'recs',\n",
       " 'eras',\n",
       " 'chare',\n",
       " 'aches',\n",
       " 'ceras',\n",
       " 'hares',\n",
       " 'hears',\n",
       " 'cesar',\n",
       " 'reach',\n",
       " 'acres',\n",
       " 'sear',\n",
       " 'crea',\n",
       " 'resh',\n",
       " 'arse',\n",
       " 'each',\n",
       " 'sher',\n",
       " 'haec',\n",
       " 'acre',\n",
       " 'arch',\n",
       " 'scrae',\n",
       " 'sacre',\n",
       " 'rash',\n",
       " 'race',\n",
       " 'ache',\n",
       " 'ersh',\n",
       " 'case',\n",
       " 'chaser',\n",
       " 'echar',\n",
       " 'carse',\n",
       " 'scar',\n",
       " 'cera',\n",
       " 'cher',\n",
       " 'caser',\n",
       " 'cares',\n",
       " 'acer',\n",
       " 'ares',\n",
       " 'rheas',\n",
       " 'races',\n",
       " 'sera',\n",
       " 'hera',\n",
       " 'arches',\n",
       " 'earsh',\n",
       " 'rase',\n",
       " 'arche',\n",
       " 'cres',\n",
       " 'raches',\n",
       " 'scare',\n",
       " 'esca',\n",
       " 'casher',\n",
       " 'sech',\n",
       " 'care',\n",
       " 'escar',\n",
       " 'rache',\n",
       " 'share']"
      ]
     },
     "execution_count": 6,
     "metadata": {},
     "output_type": "execute_result"
    }
   ],
   "source": [
    "# Takes about 20 sec\n",
    "from unscramble import Unscramble\n",
    "a = Unscramble(\"search\")\n",
    "a.generate_words()"
   ]
  },
  {
   "cell_type": "code",
   "execution_count": null,
   "metadata": {},
   "outputs": [],
   "source": []
  }
 ],
 "metadata": {
  "kernelspec": {
   "display_name": "Python 3",
   "language": "python",
   "name": "python3"
  },
  "language_info": {
   "codemirror_mode": {
    "name": "ipython",
    "version": 3
   },
   "file_extension": ".py",
   "mimetype": "text/x-python",
   "name": "python",
   "nbconvert_exporter": "python",
   "pygments_lexer": "ipython3",
   "version": "3.6.8"
  }
 },
 "nbformat": 4,
 "nbformat_minor": 2
}
